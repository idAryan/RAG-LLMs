{
 "cells": [
  {
   "cell_type": "code",
   "execution_count": 1,
   "id": "490b810f-0ef5-4d52-a9b0-f5173c1fef3e",
   "metadata": {},
   "outputs": [],
   "source": [
    "neutral_samples = [\n",
    "    \"It's okay, nothing special.\",\n",
    "    \"Average quality, decent service.\",\n",
    "    \"Not good, not bad.\",\n",
    "    \"It works as expected.\",\n",
    "    \"Service was acceptable.\"\n",
    "]"
   ]
  },
  {
   "cell_type": "code",
   "execution_count": 2,
   "id": "59e648cd-54dc-48d5-9bbb-a443f9143d66",
   "metadata": {},
   "outputs": [],
   "source": [
    "user_query=\"I am an in indian and i live in india\""
   ]
  },
  {
   "cell_type": "code",
   "execution_count": 3,
   "id": "f3880917-c858-4c85-aef3-7cfd09c0f7b6",
   "metadata": {},
   "outputs": [],
   "source": [
    "document=\"india is country for the indians and for everyone\""
   ]
  },
  {
   "cell_type": "markdown",
   "id": "17a2d667-2a56-496c-8d56-ae19a71a2498",
   "metadata": {},
   "source": [
    "# cosine similarity"
   ]
  },
  {
   "cell_type": "code",
   "execution_count": 5,
   "id": "04d3efae-7a59-4db6-acd8-bc7c9b868afd",
   "metadata": {},
   "outputs": [],
   "source": [
    "from collections import Counter\n",
    "import math"
   ]
  },
  {
   "cell_type": "code",
   "execution_count": 6,
   "id": "70f46cdb-f8ee-4ec8-a1b9-785f2b257d5c",
   "metadata": {},
   "outputs": [
    {
     "data": {
      "text/plain": [
       "['i', 'am', 'an', 'in', 'indian', 'and', 'i', 'live', 'in', 'india']"
      ]
     },
     "execution_count": 6,
     "metadata": {},
     "output_type": "execute_result"
    }
   ],
   "source": [
    "user_query.lower().split()"
   ]
  },
  {
   "cell_type": "code",
   "execution_count": 18,
   "id": "f63fed0b-745f-4c9d-8cf3-a86ec1c2d6b7",
   "metadata": {},
   "outputs": [],
   "source": [
    "query_tokens=user_query.lower().split()"
   ]
  },
  {
   "cell_type": "code",
   "execution_count": 19,
   "id": "02ac2d8d-d323-444b-ab24-269768981b33",
   "metadata": {},
   "outputs": [],
   "source": [
    "document_tokens=document.lower().split()"
   ]
  },
  {
   "cell_type": "code",
   "execution_count": 23,
   "id": "81597cd5-cd48-4a1f-8390-15224dd82927",
   "metadata": {},
   "outputs": [],
   "source": [
    "document_counter=Counter(document_tokens)\n",
    "query_counter=Counter(query_tokens)"
   ]
  },
  {
   "cell_type": "code",
   "execution_count": 20,
   "id": "21d8ae5c-da0a-4a59-98cd-e3f358d1d28e",
   "metadata": {},
   "outputs": [],
   "source": [
    "lst=[]\n",
    "for token in query_counter.keys():\n",
    "    lst.append(query_counter[token])\n",
    "    "
   ]
  },
  {
   "cell_type": "code",
   "execution_count": 21,
   "id": "48aff103-9b0c-4ba0-b77e-1dfaded1ba99",
   "metadata": {},
   "outputs": [
    {
     "data": {
      "text/plain": [
       "[1, 1, 1, 2, 1, 1, 1, 1]"
      ]
     },
     "execution_count": 21,
     "metadata": {},
     "output_type": "execute_result"
    }
   ],
   "source": [
    "lst"
   ]
  },
  {
   "cell_type": "code",
   "execution_count": 25,
   "id": "9097ee0c-45d1-47d5-a0f9-50bcb79463a1",
   "metadata": {},
   "outputs": [],
   "source": [
    "mylist=[]\n",
    "for tokens in query_counter.keys() & document_counter.keys():\n",
    "    mylist.append(query_counter[tokens]*document_counter[tokens])"
   ]
  },
  {
   "cell_type": "code",
   "execution_count": 26,
   "id": "c0a5ebfe-e589-4a9b-b54e-7f9b3775a1a6",
   "metadata": {},
   "outputs": [
    {
     "data": {
      "text/plain": [
       "[1, 1]"
      ]
     },
     "execution_count": 26,
     "metadata": {},
     "output_type": "execute_result"
    }
   ],
   "source": [
    "mylist"
   ]
  },
  {
   "cell_type": "code",
   "execution_count": 43,
   "id": "2030148a-8d55-4ebd-abd0-000e4021a023",
   "metadata": {},
   "outputs": [],
   "source": [
    "#dot product\n",
    "dot_prod=sum(mylist)"
   ]
  },
  {
   "cell_type": "code",
   "execution_count": 34,
   "id": "2a3e3633-35fb-431e-9e50-749f54f18db9",
   "metadata": {},
   "outputs": [],
   "source": [
    "query_mag=math.sqrt(sum(query_counter[token]**2 for token in query_counter))"
   ]
  },
  {
   "cell_type": "code",
   "execution_count": 37,
   "id": "ada07558-e17a-4c52-b539-edc3f204e619",
   "metadata": {},
   "outputs": [
    {
     "data": {
      "text/plain": [
       "3.7416573867739413"
      ]
     },
     "execution_count": 37,
     "metadata": {},
     "output_type": "execute_result"
    }
   ],
   "source": [
    "query_mag"
   ]
  },
  {
   "cell_type": "code",
   "execution_count": 40,
   "id": "3400245e-e4b5-4a21-9eea-59e133c600f9",
   "metadata": {},
   "outputs": [],
   "source": [
    "document_mag=math.sqrt(sum(document_counter[token]**2 for token in document_counter))"
   ]
  },
  {
   "cell_type": "code",
   "execution_count": 41,
   "id": "b37a20d6-a920-4765-92ec-ccadbe0336bf",
   "metadata": {},
   "outputs": [
    {
     "data": {
      "text/plain": [
       "3.3166247903554"
      ]
     },
     "execution_count": 41,
     "metadata": {},
     "output_type": "execute_result"
    }
   ],
   "source": [
    "document_mag"
   ]
  },
  {
   "cell_type": "code",
   "execution_count": 44,
   "id": "50f37835-8a05-495e-9471-9ccb4b433990",
   "metadata": {},
   "outputs": [],
   "source": [
    "cosine_similarity=dot_prod/(query_mag*document_mag)"
   ]
  },
  {
   "cell_type": "code",
   "execution_count": 45,
   "id": "0d5c0ec2-fbe8-49d6-98cb-590a05903dd2",
   "metadata": {},
   "outputs": [
    {
     "data": {
      "text/plain": [
       "0.16116459280507606"
      ]
     },
     "execution_count": 45,
     "metadata": {},
     "output_type": "execute_result"
    }
   ],
   "source": [
    "cosine_similarity"
   ]
  },
  {
   "cell_type": "code",
   "execution_count": 46,
   "id": "563a8555-8474-4eb0-a845-8353c2a7a9aa",
   "metadata": {},
   "outputs": [],
   "source": [
    "user_query=\"Is yoga good for health\"\n",
    "document=\"yoga is good for living healthy lifestyle\"\n"
   ]
  },
  {
   "cell_type": "code",
   "execution_count": 48,
   "id": "ca32c44a-1ff4-4e29-829e-a86abb94aecd",
   "metadata": {},
   "outputs": [],
   "source": [
    "def cos_sim(query,document):\n",
    "    query_tokens=query.lower().split()\n",
    "    document_tokens=document.lower().split()\n",
    "    query_counter=Counter(query_tokens)\n",
    "    document_counter=Counter(document_tokens)\n",
    "    dot_prod=sum(query_counter[token]*document_counter[token] for token in query_counter.keys())\n",
    "    query_mag=math.sqrt(sum(query_counter[token]**2 for token in query_counter))\n",
    "    document_mag=math.sqrt(sum(document_counter[token]**2 for token in document_counter))\n",
    "    similarity=dot_prod/(query_mag*document_mag)\n",
    "    return similarity\n",
    "    "
   ]
  },
  {
   "cell_type": "code",
   "execution_count": 49,
   "id": "ef60a0a5-31e5-4482-acbf-40adaa7e9fb5",
   "metadata": {},
   "outputs": [
    {
     "data": {
      "text/plain": [
       "0.6761234037828131"
      ]
     },
     "execution_count": 49,
     "metadata": {},
     "output_type": "execute_result"
    }
   ],
   "source": [
    "cos_sim(user_query,document)"
   ]
  },
  {
   "cell_type": "code",
   "execution_count": null,
   "id": "e5445b97-0797-4a87-9ebc-50dd6f368776",
   "metadata": {},
   "outputs": [],
   "source": []
  }
 ],
 "metadata": {
  "kernelspec": {
   "display_name": "Python 3 (ipykernel)",
   "language": "python",
   "name": "python3"
  },
  "language_info": {
   "codemirror_mode": {
    "name": "ipython",
    "version": 3
   },
   "file_extension": ".py",
   "mimetype": "text/x-python",
   "name": "python",
   "nbconvert_exporter": "python",
   "pygments_lexer": "ipython3",
   "version": "3.11.5"
  }
 },
 "nbformat": 4,
 "nbformat_minor": 5
}
